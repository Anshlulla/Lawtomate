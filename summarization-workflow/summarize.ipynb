{
 "cells": [
  {
   "cell_type": "code",
   "execution_count": 12,
   "metadata": {},
   "outputs": [
    {
     "data": {
      "text/plain": [
       "True"
      ]
     },
     "execution_count": 12,
     "metadata": {},
     "output_type": "execute_result"
    }
   ],
   "source": [
    "import os\n",
    "from dotenv import load_dotenv\n",
    "from langchain_groq import ChatGroq\n",
    "from langchain.schema import AIMessage, SystemMessage, HumanMessage\n",
    "from langchain.chains import LLMChain\n",
    "from langchain.prompts import PromptTemplate\n",
    "from langchain.text_splitter import RecursiveCharacterTextSplitter\n",
    "from langchain_community.document_loaders import PyPDFLoader\n",
    "from langchain.chains.summarize import load_summarize_chain\n",
    "load_dotenv()"
   ]
  },
  {
   "cell_type": "code",
   "execution_count": 6,
   "metadata": {},
   "outputs": [
    {
     "name": "stdout",
     "output_type": "stream",
     "text": [
      "14\n"
     ]
    }
   ],
   "source": [
    "loader = PyPDFLoader(file_path=r\"C:\\Users\\Ansh Lulla\\VS-Code\\Full_Stack_Frontend\\summarization-workflow\\PlotPoint_Research_Paper.pdf\")\n",
    "docs = loader.load_and_split()\n",
    "print(len(docs))"
   ]
  },
  {
   "cell_type": "code",
   "execution_count": 13,
   "metadata": {},
   "outputs": [
    {
     "data": {
      "text/plain": [
       "29"
      ]
     },
     "execution_count": 13,
     "metadata": {},
     "output_type": "execute_result"
    }
   ],
   "source": [
    "splitter = RecursiveCharacterTextSplitter(chunk_size=2000, chunk_overlap=200)\n",
    "chunks = splitter.split_documents(docs)\n",
    "len(chunks)"
   ]
  },
  {
   "cell_type": "code",
   "execution_count": 14,
   "metadata": {},
   "outputs": [
    {
     "data": {
      "text/plain": [
       "PromptTemplate(input_variables=['text'], input_types={}, partial_variables={}, template='\\n    Write a concise summary of the document. Maintain the context of legal contracts\\n    text: {text}\\n    Summary:\\n')"
      ]
     },
     "execution_count": 14,
     "metadata": {},
     "output_type": "execute_result"
    }
   ],
   "source": [
    "template = \"\"\"\n",
    "    Write a concise summary of the document. Maintain the context of legal contracts\n",
    "    text: {text}\n",
    "    Summary:\n",
    "\"\"\"\n",
    "\n",
    "prompt = PromptTemplate(input_variables=[\"text\"], template=template)\n",
    "prompt"
   ]
  },
  {
   "cell_type": "code",
   "execution_count": 8,
   "metadata": {},
   "outputs": [
    {
     "data": {
      "text/plain": [
       "ChatGroq(client=<groq.resources.chat.completions.Completions object at 0x000002D390C17950>, async_client=<groq.resources.chat.completions.AsyncCompletions object at 0x000002D390C3C8F0>, model_name='llama3-8b-8192', model_kwargs={}, groq_api_key=SecretStr('**********'))"
      ]
     },
     "execution_count": 8,
     "metadata": {},
     "output_type": "execute_result"
    }
   ],
   "source": [
    "llm = ChatGroq(model=\"llama3-8b-8192\", api_key=os.getenv(\"GROQ_API_KEY\"))\n",
    "llm"
   ]
  },
  {
   "cell_type": "code",
   "execution_count": 15,
   "metadata": {},
   "outputs": [
    {
     "data": {
      "text/plain": [
       "PromptTemplate(input_variables=['text'], input_types={}, partial_variables={}, template='\\n    Provide the final summary of the entire contract with these important points.\\n    Add a title and end with a call to action and provide the summary points in numbers. \\n    Text: {text}\\n')"
      ]
     },
     "execution_count": 15,
     "metadata": {},
     "output_type": "execute_result"
    }
   ],
   "source": [
    "final_prompt = \"\"\"\n",
    "    Provide the final summary of the entire contract with these important points.\n",
    "    Add a title and end with a call to action and provide the summary points in numbers. \n",
    "    Text: {text}\n",
    "\"\"\"\n",
    "\n",
    "final_prompt_template = PromptTemplate(input_variables=[\"text\"], template=final_prompt)\n",
    "final_prompt_template"
   ]
  },
  {
   "cell_type": "code",
   "execution_count": 16,
   "metadata": {},
   "outputs": [
    {
     "data": {
      "text/plain": [
       "MapReduceDocumentsChain(verbose=True, llm_chain=LLMChain(verbose=True, prompt=PromptTemplate(input_variables=['text'], input_types={}, partial_variables={}, template='\\n    Write a concise summary of the document. Maintain the context of legal contracts\\n    text: {text}\\n    Summary:\\n'), llm=ChatGroq(client=<groq.resources.chat.completions.Completions object at 0x000002D390C17950>, async_client=<groq.resources.chat.completions.AsyncCompletions object at 0x000002D390C3C8F0>, model_name='llama3-8b-8192', model_kwargs={}, groq_api_key=SecretStr('**********')), output_parser=StrOutputParser(), llm_kwargs={}), reduce_documents_chain=ReduceDocumentsChain(verbose=True, combine_documents_chain=StuffDocumentsChain(verbose=True, llm_chain=LLMChain(verbose=True, prompt=PromptTemplate(input_variables=['text'], input_types={}, partial_variables={}, template='\\n    Provide the final summary of the entire contract with these important points.\\n    Add a title and end with a call to action and provide the summary points in numbers. \\n    Text: {text}\\n'), llm=ChatGroq(client=<groq.resources.chat.completions.Completions object at 0x000002D390C17950>, async_client=<groq.resources.chat.completions.AsyncCompletions object at 0x000002D390C3C8F0>, model_name='llama3-8b-8192', model_kwargs={}, groq_api_key=SecretStr('**********')), output_parser=StrOutputParser(), llm_kwargs={}), document_prompt=PromptTemplate(input_variables=['page_content'], input_types={}, partial_variables={}, template='{page_content}'), document_variable_name='text')), document_variable_name='text')"
      ]
     },
     "execution_count": 16,
     "metadata": {},
     "output_type": "execute_result"
    }
   ],
   "source": [
    "# combine all the docs and create a summary\n",
    "chain = load_summarize_chain(llm=llm, \n",
    "                             chain_type=\"map_reduce\", \n",
    "                             map_prompt=prompt, \n",
    "                             combine_prompt=final_prompt_template, \n",
    "                             verbose=True)\n",
    "chain"
   ]
  },
  {
   "cell_type": "code",
   "execution_count": null,
   "metadata": {},
   "outputs": [
    {
     "name": "stdout",
     "output_type": "stream",
     "text": [
      "\n",
      "\n",
      "\u001b[1m> Entering new MapReduceDocumentsChain chain...\u001b[0m\n",
      "\n",
      "\n",
      "\u001b[1m> Entering new LLMChain chain...\u001b[0m\n",
      "Prompt after formatting:\n",
      "\u001b[32;1m\u001b[1;3m\n",
      "    Write a concise summary of the document. Maintain the context of legal contracts\n",
      "    text: PlotPoint - An AI-Driven Framework for\n",
      "Automated Movie Scriptwriting and Scene\n",
      "Generation\n",
      "Ansh Lulla, Aayush Koul, Rampalli Agni Mithra,\n",
      "Aniket K. Shahade ∗, Mayur Gaikwad, Shruti Patil\n",
      "Department of AIML ,\n",
      "Symbiosis Institute of Technology, Pune Campus , Symbiosis International (Deemed University), Pune, India\n",
      "∗aniket.shahade@sitpune.edu.in\n",
      "Abstract—Script writing has become a labor-intensive\n",
      "process, especially when tailored to specific scene setting,\n",
      "culture or character. Recent advancements in the field\n",
      "of Natural Language Processing and Deep Learning\n",
      "algorithms have made it possible to automate the process\n",
      "of script writing. With a simple prompt, it is possible to\n",
      "generate the entire script for a movie, which would be\n",
      "customizable by the input’s creativity and imagination.\n",
      "Retrieval Augmented Generation has the potential to\n",
      "facilitate rapid prototyping of movie scripts by ingesting\n",
      "the data in a vector database and retrieving scripts\n",
      "which would be most similar with the input prompt.\n",
      "These retrieved scripts would act as part of context\n",
      "for the Large Language Models and prevent them from\n",
      "hallucinating. This approach enhances the potential of\n",
      "these LLMs to generate context-specific output which is\n",
      "essential when taking into consideration the fine details\n",
      "mentioned in the input prompt. Fine-tuning LLMs is\n",
      "another approach which helps downstream the LLMs to\n",
      "learn how to generate movie scripts. With the inclusion\n",
      "of visualizing the script elements, one can conveniently\n",
      "turn their ideas into a script and scenes. Combining the\n",
      "capabilities of Stable Diffusion with the LLMs, script\n",
      "generation can be extended to scene generation. On\n",
      "training multiple models on the dataset of movie scripts,\n",
      "Gemini-Pro (for RAG) was very effective with a cosine\n",
      "similarity of 0.5713 whereas GPT-2 and Bloom (for fine-\n",
      "tuning) showed a cosine similarity of 0.5011 and 0.5058\n",
      "respectively between the input prompt and the generated\n",
      "script, and perplexity of 1.7443 for GPT-2 and 1.6892\n",
      "    Summary:\n",
      "\u001b[0m\n",
      "Prompt after formatting:\n",
      "\u001b[32;1m\u001b[1;3m\n",
      "    Write a concise summary of the document. Maintain the context of legal contracts\n",
      "    text: tuning) showed a cosine similarity of 0.5011 and 0.5058\n",
      "respectively between the input prompt and the generated\n",
      "script, and perplexity of 1.7443 for GPT-2 and 1.6892\n",
      "for Bloom showing that GPT-2 is able to generate scripts\n",
      "which are coherent and relevant to the input prompt and\n",
      "has thus understood the language structure and patterns\n",
      "well. A CLIP score of 0.3061 was achieved with using\n",
      "CompVis for generation of movie scenes.\n",
      "Index Terms—NLP, Deep Learning, RAG, LLMs, Sta-\n",
      "ble Diffusion\n",
      "I. I NTRODUCTION\n",
      "A. Background\n",
      "Scriptwriting is an important part of the entertain-\n",
      "ment industry. Scripts contain dialogues, scene settings\n",
      "and character development which makes it a time\n",
      "consuming and arduous process, particularly when\n",
      "tailored content is needed for movies, television shows,\n",
      "gaming and marketing.\n",
      "It is very important to create a vision of the scene to\n",
      "allow the director to create a scene which engages and\n",
      "appeals to the audience. Along with the increased de-\n",
      "mand for personalized content, automating the process\n",
      "of scriptwriting using Natural Language Processing\n",
      "has emerged as a promising solution to the problem\n",
      "of generating scalable, high quality scripts along with\n",
      "the growing demand in the industry.\n",
      "Leveraging Deep Learning models to create com-\n",
      "plex and coherent scripts by retaining context dur-\n",
      "ing the generation of the entire script, allowing the\n",
      "scriptwriter to focus on improving the idea itself,\n",
      "significantly reduces the time and effort required for\n",
      "scriptwriting.\n",
      "B. Domain\n",
      "Natural Language Generation is a subfield of Natu-\n",
      "ral Language Processing. It has proven to be a reliable\n",
      "tool in generating complex and coherent text while\n",
      "retaining contextual nuances throughout the generation\n",
      "process.\n",
      "Leveraging deep learning techniques allowing ma-\n",
      "chines to learn the sequential patterns in text, NLG\n",
      "systems are able to use pre-existing datasets of movie\n",
      "scripts and dialogues to create an understanding of\n",
      "human-like dialogue structures. This understanding\n",
      "    Summary:\n",
      "\u001b[0m\n",
      "Prompt after formatting:\n",
      "\u001b[32;1m\u001b[1;3m\n",
      "    Write a concise summary of the document. Maintain the context of legal contracts\n",
      "    text: systems are able to use pre-existing datasets of movie\n",
      "scripts and dialogues to create an understanding of\n",
      "human-like dialogue structures. This understanding\n",
      "can be further used for the purpose of personalized\n",
      "script generation.\n",
      "Existing tools primarily focus on general text gen-\n",
      "eration but have research gaps for developing systems\n",
      "    Summary:\n",
      "\u001b[0m\n",
      "Prompt after formatting:\n",
      "\u001b[32;1m\u001b[1;3m\n",
      "    Write a concise summary of the document. Maintain the context of legal contracts\n",
      "    text: can be further used for the purpose of personalized\n",
      "script generation.\n",
      "Existing tools primarily focus on general text gen-\n",
      "eration but have research gaps for developing systems\n",
      "that allow personalization of scripts which include\n",
      "customizable elements such as character description,\n",
      "behavior, and other specifications defined in the input\n",
      "prompt about the scene and setting.\n",
      "C. Motivation\n",
      "Storytelling remains a crucial method of communi-\n",
      "cation in films, gaming and marketing, thereby stream-\n",
      "lining the process of script generation can enable\n",
      "rapid prototyping and customization of inputs such as\n",
      "time of the day, number of characters and character\n",
      "descriptions can pioneer significant improvements in\n",
      "plot complexity and quality by allowing writers to\n",
      "focus more on the plot itself rather than the process of\n",
      "    Summary:\n",
      "\u001b[0m\n",
      "Prompt after formatting:\n",
      "\u001b[32;1m\u001b[1;3m\n",
      "    Write a concise summary of the document. Maintain the context of legal contracts\n",
      "    text: writing it. This would reduce the barriers for anyone\n",
      "who wishes to turn their ideas into scripts, promoting\n",
      "creative freedom and enabling the refinement of ideas\n",
      "rather than focusing on the mechanics of the scripts.\n",
      "D. Contribution\n",
      "Automation of script generation has the potential\n",
      "of transforming how humans develop and consume\n",
      "content globally. As more and more people will have\n",
      "the convenience of creating high quality scripts out\n",
      "of their imagination and ideas, simply by providing\n",
      "prompts and necessary context to the LLMs or RAG\n",
      "systems fine-tuned on the movie script’s dataset, fa-\n",
      "cilitating the generation of scripts and make changes\n",
      "according to preferences without worrying about the\n",
      "back-end complexities of text generation.\n",
      "II. L ITERATURE SURVEY\n",
      "Celikyilmaz A et al. conducted a survey of evalua-\n",
      "tion metrics for text generation including both human\n",
      "and automated methods. Using word embeddings like\n",
      "Word2Vec, Seq2Seq models like GRU and LSTM,\n",
      "BERT and GPT, they highlighted the strengths of\n",
      "hybrid metrics on datasets like WMT, Twitter Dialogue\n",
      "and Daily Mail. Though effective, the study notes the\n",
      "challenges faced in human evaluation methods and\n",
      "hence the need for standardized methods [1].\n",
      "Vasvani et al. introduced the Transformer architec-\n",
      "ture which is a fully attention-based approach which\n",
      "enhances text generation tasks. Positional word em-\n",
      "beddings, shared weight matrix embeddings were used\n",
      "along with models like GCN, DeepWalk and Planetoid,\n",
      "on WMT-2014 dataset. The models though very pow-\n",
      "erful, face a lot of challenges in terms of scalability\n",
      "due to the quadratic attention complexity [2].\n",
      "Li et al. proposed the Diffusion-LM approach,\n",
      "which was effective for controllable text generation\n",
      "without the need for retraining. It has been tested\n",
      "on E2E and ROCStories datasets, using clustering\n",
      "of learned embeddings, demonstrating strong BLEU-4\n",
      "and ROUGE-L scores. Despite its effectiveness, there\n",
      "are potential issues with high-dimensional tuning and\n",
      "    Summary:\n",
      "\u001b[0m\n",
      "\n",
      "\u001b[1m> Finished chain.\u001b[0m\n"
     ]
    },
    {
     "name": "stderr",
     "output_type": "stream",
     "text": [
      "c:\\Users\\Ansh Lulla\\VS-Code\\Full_Stack_Frontend\\.venv\\Lib\\site-packages\\tqdm\\auto.py:21: TqdmWarning: IProgress not found. Please update jupyter and ipywidgets. See https://ipywidgets.readthedocs.io/en/stable/user_install.html\n",
      "  from .autonotebook import tqdm as notebook_tqdm\n",
      "None of PyTorch, TensorFlow >= 2.0, or Flax have been found. Models won't be available and only tokenizers, configuration and file/data utilities can be used.\n"
     ]
    },
    {
     "name": "stdout",
     "output_type": "stream",
     "text": [
      "\n",
      "\n",
      "\u001b[1m> Entering new LLMChain chain...\u001b[0m\n",
      "Prompt after formatting:\n",
      "\u001b[32;1m\u001b[1;3m\n",
      "    Provide the final summary of the entire contract with these important points.\n",
      "    Add a title and end with a call to action and provide the summary points in numbers. \n",
      "    Text: Here is a concise summary of the document, maintaining the context of legal contracts:\n",
      "\n",
      "This document presents PlotPoint, an AI-driven framework for automated movie scriptwriting and scene generation. The framework utilizes Natural Language Processing (NLP) and Deep Learning algorithms to generate movie scripts from a simple prompt, which can be customized by the user's creativity and imagination. The framework incorporates two approaches: Retrieval Augmented Generation (RAG) and fine-tuning of Large Language Models (LLMs). RAG enables rapid prototyping of movie scripts by retrieving similar scripts from a vector database, while fine-tuning LLMs enables them to learn how to generate movie scripts. The framework also includes visualizing script elements, allowing users to turn their ideas into scripts and scenes. The results show that the framework is effective in generating scripts with high cosine similarity between the input prompt and the generated script.\n",
      "\n",
      "Here is a concise summary of the document, maintaining the context of legal contracts:\n",
      "\n",
      "This document discusses the application of Natural Language Processing (NLP) and Deep Learning models to automate the scriptwriting process in the entertainment industry. The authors propose using Large Language Models (LLMs) to generate coherent and relevant scripts, reducing the time and effort required for scriptwriting. The document highlights the use of GPT-2 and Bloom models to generate scripts with high cosine similarity and low perplexity scores, demonstrating their ability to understand language structures and patterns. The authors also discuss the potential benefits of automating scriptwriting, including the creation of scalable and high-quality scripts, and the ability to focus on improving the script idea itself.\n",
      "\n",
      "Here is a concise summary of the document, maintaining the context of legal contracts:\n",
      "\n",
      "This document highlights the development of AI-powered systems that utilize pre-existing datasets of movie scripts and dialogues to understand human-like dialogue structures. This understanding enables the creation of personalized scripts, filling a research gap in the existing tools that primarily focus on general text generation.\n",
      "\n",
      "The document highlights the need for advancements in script generation technology, particularly in personalization. Existing tools primarily focus on general text generation, neglecting the development of systems that can accommodate customizable elements such as character descriptions, behaviors, and scene settings. The motivation for this research is to streamline script generation, enabling rapid prototyping and customization, which can lead to improved plot complexity and quality by allowing writers to focus on the plot rather than the process of scriptwriting.\n",
      "\n",
      "Here is a concise summary of the document, written in a legal contract text style:\n",
      "\n",
      "**SUMMARY**\n",
      "\n",
      "This document outlines the potential transformative impact of automation in script generation, enabling individuals to create high-quality scripts with ease. By providing prompts and context to Large Language Models (LLMs) or Rule-based AGing (RAG) systems fine-tuned on movie script datasets, individuals can generate scripts and make changes according to their preferences without worrying about the underlying complexities of text generation.\n",
      "\n",
      "The document also surveys existing literature on evaluation metrics for text generation, highlighting the strengths of hybrid metrics and the challenges faced in human evaluation methods. Additionally, it discusses the Transformer architecture and its limitations, as well as the Diffusion-LM approach and its potential issues with high-dimensional tuning.\n",
      "\n",
      "By promoting creative freedom and refining ideas, this automation technology has the potential to revolutionize the way humans develop and consume content globally.\n",
      "\u001b[0m\n",
      "\n",
      "\u001b[1m> Finished chain.\u001b[0m\n",
      "\n",
      "\u001b[1m> Finished chain.\u001b[0m\n",
      "**AUTOMATED SCRIPT GENERATION CONTRACT SUMMARY**\n",
      "\n",
      "**I. Introduction**\n",
      "\n",
      "* The contract outlines the development of PlotPoint, an AI-driven framework for automated movie scriptwriting and scene generation.\n",
      "* The framework utilizes Natural Language Processing (NLP) and Deep Learning algorithms to generate movie scripts from a simple prompt.\n",
      "\n",
      "**II. Key Features**\n",
      "\n",
      "* Retrieval Augmented Generation (RAG) enables rapid prototyping of movie scripts by retrieving similar scripts from a vector database.\n",
      "* Fine-tuning of Large Language Models (LLMs) enables them to learn how to generate movie scripts.\n",
      "* Visualizing script elements allows users to turn their ideas into scripts and scenes.\n",
      "\n",
      "**III. Benefits**\n",
      "\n",
      "* The framework is effective in generating scripts with high cosine similarity between the input prompt and the generated script.\n",
      "* Automated scriptwriting reduces the time and effort required for scriptwriting.\n",
      "* Scalable and high-quality scripts can be created, enabling writers to focus on improving the script idea itself.\n",
      "\n",
      "**IV. Limitations**\n",
      "\n",
      "* Existing tools primarily focus on general text generation, neglecting the development of systems that can accommodate customizable elements such as character descriptions, behaviors, and scene settings.\n",
      "\n",
      "**V. Conclusion**\n",
      "\n",
      "* By providing prompts and context to LLMs or RAG systems fine-tuned on movie script datasets, individuals can generate scripts and make changes according to their preferences without worrying about the underlying complexities of text generation.\n",
      "\n",
      "**VI. Call to Action**\n",
      "\n",
      "* We invite you to join the revolution in automated script generation and experience the transformative impact of PlotPoint.\n",
      "\n",
      "**By signing below, you acknowledge that you have read and understood the terms of this contract and agree to the usage of PlotPoint for automated script generation.**\n"
     ]
    }
   ],
   "source": [
    "summary = chain.run(chunks)\n",
    "print(summary)"
   ]
  },
  {
   "cell_type": "code",
   "execution_count": null,
   "metadata": {},
   "outputs": [],
   "source": []
  }
 ],
 "metadata": {
  "kernelspec": {
   "display_name": ".venv",
   "language": "python",
   "name": "python3"
  },
  "language_info": {
   "codemirror_mode": {
    "name": "ipython",
    "version": 3
   },
   "file_extension": ".py",
   "mimetype": "text/x-python",
   "name": "python",
   "nbconvert_exporter": "python",
   "pygments_lexer": "ipython3",
   "version": "3.12.4"
  }
 },
 "nbformat": 4,
 "nbformat_minor": 2
}
